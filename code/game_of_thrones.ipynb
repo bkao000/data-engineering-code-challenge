{
 "cells": [
  {
   "cell_type": "code",
   "execution_count": 6,
   "metadata": {
    "collapsed": false,
    "scrolled": false
   },
   "outputs": [],
   "source": [
    "import os\n",
    "import re\n",
    "\n",
    "# Set up environment variables\n",
    "base_dir = 'C:\\\\Users\\\\bkao0\\\\Documents\\\\GitHub\\\\data-engineering-coding-challenge'\n",
    "data_dir = os.path.join(base_dir, 'dataset')\n",
    "output_dir = os.path.join(base_dir, 'output')\n",
    "\n",
    "logpath = os.path.join(output_dir,'logs.txt')\n",
    "log_fp = open(logpath, \"w+\")\n",
    "\n",
    "# Generate doc file list\n",
    "doc_list = os.listdir(data_dir)\n",
    "# Loop through all doc files\n",
    "words_dict = {}\n",
    "for doc in doc_list:\n",
    "    filepath = os.path.join(data_dir, doc)\n",
    "    total_lines = 0\n",
    "    empty_lines = 0\n",
    "    #print(filepath)\n",
    "    log_fp.write('%s\\n' % filepath)\n",
    "    with open(filepath) as in_fp:\n",
    "        line = in_fp.readline()\n",
    "        while line:\n",
    "            total_lines = total_lines + 1\n",
    "            line = line.strip()\n",
    "            #print('|{}|'.format(line))\n",
    "            if line != '':\n",
    "                #log_fp.write('%s\\n' % line)\n",
    "                words = re.sub(\"[^\\w]\", \" \",  line).split()\n",
    "                #words2 = re.split('; |, |\\*|\\n', line)\n",
    "                for w in words:\n",
    "                    if w == 's':\n",
    "                        continue\n",
    "                    if w.isdigit():\n",
    "                        continue\n",
    "                    if w in words_dict:\n",
    "                        val = words_dict.get(w)\n",
    "                        if int(doc) not in val:\n",
    "                            val.append(int(doc))\n",
    "                            words_dict[w] = val\n",
    "                    else:\n",
    "                        words_dict[w] = [int(doc)]\n",
    "                #print('words = {}'.format(words))\n",
    "                #print(words_dict)\n",
    "                #log_fp.write('%s\\n' % str(words))\n",
    "                #log_fp.write('%s\\n' % str(words_dict))\n",
    "            else:\n",
    "                empty_lines = empty_lines + 1\n",
    "            #if total_lines == 10:\n",
    "            #    break\n",
    "            line = in_fp.readline()    \n",
    "    in_fp.close()\n",
    "\n",
    "    #print('filepath = {}, total_lines = {}, empty_lines = {}'.format(filepath, total_lines, empty_lines))\n",
    "    log_fp.write('filepath = %s total_lines = %d, empty_lines = %d' % (filepath, total_lines, empty_lines))\n",
    "log_fp.close()\n",
    "\n",
    "# Write word dictionary to file in the format word, id of docs\n",
    "outpath = os.path.join(output_dir,'words_dictionary')\n",
    "out_fp = open(outpath, \"w+\") \n",
    "# Sort words_dict by key\n",
    "sorted_words_dict = dict(sorted(words_dict.items()))\n",
    "for k in list(sorted_words_dict.keys()):\n",
    "    v = sorted_words_dict[k]\n",
    "    new_v = sorted(v)     # sort list in words_dict value\n",
    "    #sorted_words_dict[k] = new_v      # If sorted_words_dict will be referred later the value can be updated. Otherwise skip it.\n",
    "    out_fp.write('%s %s\\n' % (k, new_v))\n",
    "out_fp.close()\n",
    "         \n",
    "\n",
    "\n"
   ]
  },
  {
   "cell_type": "code",
   "execution_count": null,
   "metadata": {
    "collapsed": true
   },
   "outputs": [],
   "source": []
  }
 ],
 "metadata": {
  "kernelspec": {
   "display_name": "Python 3",
   "language": "python",
   "name": "python3"
  },
  "language_info": {
   "codemirror_mode": {
    "name": "ipython",
    "version": 3
   },
   "file_extension": ".py",
   "mimetype": "text/x-python",
   "name": "python",
   "nbconvert_exporter": "python",
   "pygments_lexer": "ipython3",
   "version": "3.6.0"
  }
 },
 "nbformat": 4,
 "nbformat_minor": 2
}
